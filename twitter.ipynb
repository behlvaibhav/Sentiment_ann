{
 "cells": [
  {
   "cell_type": "code",
   "execution_count": 5,
   "metadata": {},
   "outputs": [],
   "source": [
    "from tweepy import Stream\n",
    "from tweepy import OAuthHandler\n",
    "from tweepy.streaming import StreamListener\n",
    "import time\n",
    "import json\n",
    "import model as s\n",
    "\n",
    "\n",
    "#consumer key, consumer secret, access token, access secret.\n",
    "ckey='LAYZ1iJx04kCV8KFJUQIvokPO'\n",
    "csecret='dbZBr6U2M96zjKrCcXhTfaGGEV29qcqf1Qs9WE7q4c8NlSzSrS'\n",
    "atoken='935192839444508672-vzQJvRnQLVWtOjJtDyWQCaPx0zlR0JJ'\n",
    "asecret='2aaBfrh37pARTgE1MsrOxFtimRYB0uBGTeCbgPfbJUnmU'"
   ]
  },
  {
   "cell_type": "code",
   "execution_count": null,
   "metadata": {},
   "outputs": [
    {
     "name": "stdout",
     "output_type": "stream",
     "text": [
      "\"This is everything I didn't know I needed\" pos [1. 0.]\n",
      "'\\U0001f305#GoodMorningFriends\\U0001f48b#AmazingTalentedHandsomeLovely\\u2764@gurruchoudhary\\u2764\\U0001f499#HappyHappySundayEveyone\\U0001f618\\U0001f618\\U0001f48b\\U0001f48b#LoveYouAll\\u2764\\u2764\\U0001f499\\U0001f499' pos [1. 0.]\n",
      "\"Good morning everyone\\nHappy Sunday y'all\" pos [1. 0.]\n",
      "'6 oop' neg [0.20779933 0.7920863 ]\n"
     ]
    }
   ],
   "source": [
    "class listener(StreamListener):\n",
    "\n",
    "    def on_data(self, data):\n",
    "        try:\n",
    "            all_data = json.loads(data)\n",
    "            tweet = ascii(all_data[\"text\"])\n",
    "            prob = s.ret_probabilities(tweet)\n",
    "            res = ''\n",
    "            if prob[0][0] > 0.5:\n",
    "                res = 'pos'\n",
    "            else:\n",
    "                res = 'neg'\n",
    "            print(tweet,res,prob[0])\n",
    "            return True\n",
    "        except:\n",
    "            return True\n",
    "    def on_error(self, status):\n",
    "        print (status)\n",
    "\n",
    "auth = OAuthHandler(ckey, csecret)\n",
    "auth.set_access_token(atoken, asecret)\n",
    "\n",
    "twitterStream = Stream(auth, listener())\n",
    "twitterStream.filter(track=[\"happy\"])"
   ]
  },
  {
   "cell_type": "code",
   "execution_count": null,
   "metadata": {},
   "outputs": [],
   "source": []
  }
 ],
 "metadata": {
  "kernelspec": {
   "display_name": "Python 3",
   "language": "python",
   "name": "python3"
  },
  "language_info": {
   "codemirror_mode": {
    "name": "ipython",
    "version": 3
   },
   "file_extension": ".py",
   "mimetype": "text/x-python",
   "name": "python",
   "nbconvert_exporter": "python",
   "pygments_lexer": "ipython3",
   "version": "3.6.5"
  }
 },
 "nbformat": 4,
 "nbformat_minor": 2
}
